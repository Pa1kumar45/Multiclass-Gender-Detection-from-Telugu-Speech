{
  "nbformat": 4,
  "nbformat_minor": 0,
  "metadata": {
    "colab": {
      "provenance": []
    },
    "kernelspec": {
      "name": "python3",
      "display_name": "Python 3"
    },
    "language_info": {
      "name": "python"
    }
  },
  "cells": [
    {
      "cell_type": "code",
      "execution_count": null,
      "metadata": {
        "id": "IFzkb0NN_fJi"
      },
      "outputs": [],
      "source": [
        "import pandas as pd\n",
        "from sklearn.model_selection import train_test_split\n",
        "from sklearn.ensemble import RandomForestClassifier\n",
        "from sklearn.metrics import accuracy_score, classification_report, confusion_matrix\n",
        "import matplotlib.pyplot as plt\n",
        "from google.colab import drive"
      ]
    },
    {
      "cell_type": "code",
      "source": [
        "drive.mount(\"/content/drive\", force_remount=True)"
      ],
      "metadata": {
        "id": "fAhS_3qF_iX-"
      },
      "execution_count": null,
      "outputs": []
    },
    {
      "cell_type": "code",
      "source": [
        "file_path = '/content/drive/MyDrive/extracted_features_withtrans(new).xlsx'\n",
        "feature_df = pd.read_excel(file_path)"
      ],
      "metadata": {
        "id": "o_2TQeW1_iUf"
      },
      "execution_count": null,
      "outputs": []
    },
    {
      "cell_type": "code",
      "source": [
        "X = feature_df.drop(columns=['audio_file', 'gender'])\n",
        "y = feature_df['gender']\n",
        "\n",
        "X_train, X_test, y_train, y_test = train_test_split(\n",
        "    X, y, test_size=0.2, random_state=42, stratify=y\n",
        ")"
      ],
      "metadata": {
        "id": "IGiGQRp0_iSC"
      },
      "execution_count": null,
      "outputs": []
    },
    {
      "cell_type": "code",
      "source": [
        "\n",
        "\n",
        "classifier = RandomForestClassifier(\n",
        "    n_estimators=300, max_depth=25, random_state=42, class_weight='balanced'\n",
        ")\n",
        "classifier.fit(X_train, y_train)\n",
        "\n",
        "y_pred = classifier.predict(X_test)\n",
        "accuracy = accuracy_score(y_test, y_pred)\n"
      ],
      "metadata": {
        "id": "idNgLpkK_iP3"
      },
      "execution_count": null,
      "outputs": []
    },
    {
      "cell_type": "code",
      "source": [
        "print(f\"\\n Model Accuracy: {accuracy*100:.2f}%\")\n",
        "print(\"\\nClassification Report:\\n\", classification_report(y_test, y_pred))\n",
        "print(\"Confusion Matrix:\\n\", confusion_matrix(y_test, y_pred, labels=['female','male','trans']))"
      ],
      "metadata": {
        "id": "vGIEoJfA_iN0"
      },
      "execution_count": null,
      "outputs": []
    },
    {
      "cell_type": "code",
      "source": [
        "\n",
        "importances = classifier.feature_importances_\n",
        "feat_importance_df = pd.DataFrame({\n",
        "    'Feature': X.columns,\n",
        "    'Importance': importances\n",
        "}).sort_values(by='Importance', ascending=False)\n",
        "plt.figure(figsize=(10,6))\n",
        "plt.barh(feat_importance_df['Feature'][:10], feat_importance_df['Importance'][:10], color='skyblue')\n",
        "plt.gca().invert_yaxis()\n",
        "plt.xlabel(\"Importance\")\n",
        "plt.title(\"Top 10 Important Features\")\n",
        "plt.show()"
      ],
      "metadata": {
        "id": "7cJXlOgM_iL1"
      },
      "execution_count": null,
      "outputs": []
    },
    {
      "cell_type": "code",
      "source": [
        "feature_df['Predicted_Gender'] = classifier.predict(X)\n",
        "comparison_df = pd.DataFrame({\n",
        "    'Actual': y,\n",
        "    'Predicted': feature_df['Predicted_Gender']\n",
        "})\n",
        "\n",
        "print(\"\\nSample Comparison:\")\n",
        "print(comparison_df.head(10))"
      ],
      "metadata": {
        "id": "pFbmNQfv_iJm"
      },
      "execution_count": null,
      "outputs": []
    },
    {
      "cell_type": "code",
      "source": [
        "comparison_df.to_csv('/content/drive/MyDrive/comparison_results_withtrans.csv', index=False)\n",
        "print(\"\\n Comparison results saved as 'comparison_results_withtrans.csv'\")"
      ],
      "metadata": {
        "id": "u9IauOPU_iHV"
      },
      "execution_count": null,
      "outputs": []
    }
  ]
}